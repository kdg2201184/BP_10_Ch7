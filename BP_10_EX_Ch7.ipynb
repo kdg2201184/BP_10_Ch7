{
  "nbformat": 4,
  "nbformat_minor": 0,
  "metadata": {
    "colab": {
      "provenance": [],
      "authorship_tag": "ABX9TyNiYIHikCVwifGrrU+GoWHM",
      "include_colab_link": true
    },
    "kernelspec": {
      "name": "python3",
      "display_name": "Python 3"
    },
    "language_info": {
      "name": "python"
    }
  },
  "cells": [
    {
      "cell_type": "markdown",
      "metadata": {
        "id": "view-in-github",
        "colab_type": "text"
      },
      "source": [
        "<a href=\"https://colab.research.google.com/github/kdg2201184/BP_10_Ch7/blob/main/BP_10_EX_Ch7.ipynb\" target=\"_parent\"><img src=\"https://colab.research.google.com/assets/colab-badge.svg\" alt=\"Open In Colab\"/></a>"
      ]
    },
    {
      "cell_type": "code",
      "execution_count": null,
      "metadata": {
        "id": "6AOGZEhe3JG3"
      },
      "outputs": [],
      "source": [
        "import turtle\n",
        "\n",
        "t = turtle.Turtle()\n",
        "t.shape(\"turtle\")\n",
        "t.color(\"black\", \"white\")\n",
        "s = turtle.Screen() ; s.bgcolor(\"skyblue\") ;\n",
        "\n",
        "def draw_snowman(x, y):\n",
        "\tt.up()\n",
        "\tt.goto(x, y)\n",
        "\tt.down()\n",
        "\tt.begin_fill()\n",
        "\tt.circle(20)\n",
        "\tt.end_fill()\n",
        "\tt.goto(x, y - 25)\n",
        "\tt.setheading(135)\n",
        "\tt.forward(50)\n",
        "\tt.backward(50)\n",
        "\n",
        "\tt.setheading(30)\n",
        "\tt.forward(50)\n",
        "\tt.backward(50)\n",
        "\tt.setheading(0)\n",
        "\tt.begin_fill()\n",
        "\tt.circle(15)\n",
        "\tt.end_fill()\n",
        "\t\n",
        "\tt.goto(x, y - 70)\n",
        "\tt.begin_fill()\n",
        "\tt.circle(30)\n",
        "\tt.end_fill()\n",
        "\n",
        "draw_snowman(0, 0)\n",
        "draw_snowman(100, 0)\n",
        "draw_snowman(200, 0)\n"
      ]
    },
    {
      "cell_type": "code",
      "source": [
        "import turtle\n",
        "t =turtle.Turtle()\n",
        "t.shape(\"turtle\")\n",
        "t.speed(0)\n",
        "\n",
        "def hexagon():\n",
        "\tfor i in range(6):\n",
        "\t\tt.forward(100)\n",
        "\t\tt.left(360/6)\n",
        "\n",
        "for i in range(6):\n",
        "\thexagon()\n",
        "\tt.forward(100)\n",
        "\tt.right(60)"
      ],
      "metadata": {
        "id": "UsxQCXMLGQv1"
      },
      "execution_count": null,
      "outputs": []
    },
    {
      "cell_type": "code",
      "source": [
        "import turtle\n",
        "t =turtle.Turtle()\n",
        "t.shape(\"turtle\")\n",
        "t.speed(0)\n",
        "\n",
        "def f(x):\n",
        "    return x**2+1\n",
        "\n",
        "t.goto(200, 0)\n",
        "t.goto(0, 0)\n",
        "t.goto(0, 200)\n",
        "t.goto(0, 0)\n",
        "\n",
        "for x in range(150):\n",
        "    t.goto(x, int(0.01*f(x)))"
      ],
      "metadata": {
        "id": "EJ8njsirHmDm"
      },
      "execution_count": null,
      "outputs": []
    },
    {
      "cell_type": "code",
      "source": [
        "import turtle\n",
        "t =turtle.Turtle()\n",
        "t.shape(\"turtle\")\n",
        "t.speed(0)\n",
        "\n",
        "def draw_line():\n",
        "        t.forward(100)\n",
        "        t.backward(100)\n",
        "\n",
        "for x in range(12):\n",
        "    t.right(30)\n",
        "    draw_line()"
      ],
      "metadata": {
        "id": "RbjA9f-DJ3VH"
      },
      "execution_count": null,
      "outputs": []
    },
    {
      "cell_type": "code",
      "source": [
        "def happyBirthday(person):\n",
        "    print(\"happy Birthday to you!\")\n",
        "    print(\"happy Birthday to you!\")\n",
        "    print(\"happy Birthday, dear \" + person)\n",
        "    print(\"happy Birthday to you!\")\n",
        "\n",
        "happyBirthday(\"홍길동\")"
      ],
      "metadata": {
        "id": "BTry_N2cLpOY"
      },
      "execution_count": null,
      "outputs": []
    },
    {
      "cell_type": "code",
      "source": [
        "def sumProblem(x, y):\n",
        "    sum = x + y\n",
        "    sentence = \"정수\" + str(x) + \"+\" + \"str(y)\" + \"의 합은?\"\n",
        "    print(sentence)\n",
        "\n",
        "def main():\n",
        "    a = int(input(\"첫 번째 정수: \"))\n",
        "    b = int(input(\"두 번째 정수: \"))\n",
        "    sumProblem(a, b)\n",
        "\n",
        "main()"
      ],
      "metadata": {
        "id": "J69Cz2aoMVz4"
      },
      "execution_count": null,
      "outputs": []
    },
    {
      "cell_type": "code",
      "source": [
        "PI = 3.14159265358979\n",
        "\n",
        "def circleArea(radius):\n",
        "    return PI*radius*radius\n",
        "\n",
        "def circleCircumference(radius):\n",
        "    return 2*PI*radius\n",
        "\n",
        "def main():\n",
        "    print('반지름이 5인 원의 면적: ', circleArea(5))\n",
        "    print('반지름이 5인 원의 둘레: ', circleCircumference(5))\n",
        "\n",
        "main()"
      ],
      "metadata": {
        "id": "Vck2L_E9NMQ5"
      },
      "execution_count": null,
      "outputs": []
    },
    {
      "cell_type": "code",
      "source": [
        "def add(a, b):\n",
        "    print(\"(%d + %d)\" % (a, b), end =\" \")\n",
        "    return a + b\n",
        "\n",
        "def subtract(a, b):\n",
        "    print(\"(%d - %d)\" % (a, b), end =\" \")\n",
        "    return a - b\n",
        "\n",
        "def multiply(a, b):\n",
        "    print(\"(%d * %d)\" % (a, b), end =\" \")\n",
        "    return a * b\n",
        "\n",
        "def divide(a, b):\n",
        "    print(\"(%d / %d)\" % (a, b), end =\" \")\n",
        "    return a / b\n",
        "\n",
        "what = add(20, 10)\n",
        "print(\"= \", what)\n"
      ],
      "metadata": {
        "id": "zzZNgYdrO0ei"
      },
      "execution_count": null,
      "outputs": []
    }
  ]
}