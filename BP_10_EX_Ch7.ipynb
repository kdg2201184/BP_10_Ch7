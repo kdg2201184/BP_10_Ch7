{
  "nbformat": 4,
  "nbformat_minor": 0,
  "metadata": {
    "colab": {
      "provenance": [],
      "authorship_tag": "ABX9TyMUvFP1aVypmZpYoob/X4PG",
      "include_colab_link": true
    },
    "kernelspec": {
      "name": "python3",
      "display_name": "Python 3"
    },
    "language_info": {
      "name": "python"
    }
  },
  "cells": [
    {
      "cell_type": "markdown",
      "metadata": {
        "id": "view-in-github",
        "colab_type": "text"
      },
      "source": [
        "<a href=\"https://colab.research.google.com/github/kdg2201184/BP_10_Ch7/blob/main/BP_10_EX_Ch7.ipynb\" target=\"_parent\"><img src=\"https://colab.research.google.com/assets/colab-badge.svg\" alt=\"Open In Colab\"/></a>"
      ]
    },
    {
      "cell_type": "code",
      "execution_count": null,
      "metadata": {
        "id": "6AOGZEhe3JG3"
      },
      "outputs": [],
      "source": [
        "import turtle #터틀그래픽 불러오기\n",
        "\n",
        "t = turtle.Turtle() #t라는 변수를 터틀로 지정\n",
        "t.shape(\"turtle\") #모듈의 모양을 거북이으로 변경\n",
        "t.color(\"black\", \"white\") #색상을 black, white로 지정\n",
        "s = turtle.Screen() ; s.bgcolor(\"skyblue\") ; #객체를 생성하고 배경을 하늘색으로 칠하기\n",
        "\n",
        "def draw_snowman(x, y):#함수 draw_snowman을 정의\n",
        "\tt.up() #모듈을 띄우기\n",
        "\tt.goto(x, y) #(x, y)로 이동\n",
        "\tt.down() #모듈을 내려놓기\n",
        "\tt.begin_fill() #채우기 시작\n",
        "\tt.circle(20) #원을 그리기\n",
        "\tt.end_fill() #채우기 종료\n",
        "\tt.goto(x, y - 25) #(x, y - 25)로 이동\n",
        "\tt.setheading(135) #135도를 바라보기\n",
        "\tt.forward(50) #50만큼 앞으로 이동\n",
        "\tt.backward(50) #50만큼 뒤로 이동\n",
        "\n",
        "\tt.setheading(30) #30도를 바라보기\n",
        "\tt.forward(50) #50만큼 앞으로 이동\n",
        "\tt.backward(50) #50만큼 뒤로 이동\n",
        "\tt.setheading(0) #0도를 바라보기\n",
        "\tt.begin_fill() #채우기 시작\n",
        "\tt.circle(15) #원을 그리기\n",
        "\tt.end_fill() #채우기 종료\n",
        "\t\n",
        "\tt.goto(x, y - 70) #(x, y - 70)으로 이동\n",
        "\tt.begin_fill() #채우기 시작\n",
        "\tt.circle(30) #원을 그리기\n",
        "\tt.end_fill() #채우기 종료\n",
        "\n",
        "draw_snowman(0, 0) #함수에서 첫 번째 원의 위치 지정\n",
        "draw_snowman(100, 0) #함수에서 두 번째 원의 위치 지정\n",
        "draw_snowman(200, 0) #함수에서 세 번째 원의 위치 지정"
      ]
    },
    {
      "cell_type": "code",
      "source": [
        "import turtle #터틀그래픽 불러오기\n",
        " \n",
        "t =turtle.Turtle() #t라는 변수를 터틀로 지정\n",
        "t.shape(\"turtle\") #모듈의 모양을 거북이로 변경\n",
        "t.speed(0) #속도를 0으로 설정\n",
        "\n",
        "def hexagon(): #함수 hexagon 정의\n",
        "\tfor i in range(6): #6번 반복하기\n",
        "\t\tt.forward(100) #100만큼 앞으로 이동\n",
        "\t\tt.left(360/6) #왼쪽으로 60도 움직이기\n",
        "\n",
        "for i in range(6): #6본 반복하기\n",
        "\thexagon() #함수 hexgon 지정\n",
        "\tt.forward(100) #100만큼 앞으로 이동\n",
        "\tt.right(60) #오른쪽으로 60도 움직이기"
      ],
      "metadata": {
        "id": "UsxQCXMLGQv1"
      },
      "execution_count": null,
      "outputs": []
    },
    {
      "cell_type": "code",
      "source": [
        "import turtle #터틀그래픽 불러오기\n",
        "\n",
        "t =turtle.Turtle() #t라는 변수를 터틀로 지정\n",
        "t.shape(\"turtle\") #모듈의 모양을 거북이로 변경\n",
        "t.speed(0) #속도를 0으로 설정\n",
        "\n",
        "def f(x): #함수 f(x)를 정의\n",
        "    return x**2+1 #x**2+1에서 값을 반환\n",
        "\n",
        "t.goto(200, 0) #(200, 0)으로 이동\n",
        "t.goto(0, 0) #(0, 0)으로 이동\n",
        "t.goto(0, 200) #(0, 200)으로 이동\n",
        "t.goto(0, 0) #(0, 0)으로 이동\n",
        "\n",
        "for x in range(150): #150번 반복\n",
        "    t.goto(x, int(0.01*f(x))) #(x, int(0.01*f(x)))로 이동"
      ],
      "metadata": {
        "id": "EJ8njsirHmDm"
      },
      "execution_count": null,
      "outputs": []
    },
    {
      "cell_type": "code",
      "source": [
        "import turtle #터틀그래픽 불러오기\n",
        "\n",
        "t =turtle.Turtle() #t라는 변수를 터틀로 지정\n",
        "t.shape(\"turtle\") #모듈의 모양을 거북이로 변경\n",
        "t.speed(0) #속도를 0으로 설정\n",
        "\n",
        "def draw_line(): #함수 draw_line을 정의\n",
        "        t.forward(100) #앞으로 100만큼 이동\n",
        "        t.backward(100) #뒤로 100만큼 이동\n",
        "\n",
        "for x in range(12): #12번 반복하기\n",
        "    t.right(30) #오른쪽으로 30도 움직이기\n",
        "    draw_line() #함수를 포함"
      ],
      "metadata": {
        "id": "RbjA9f-DJ3VH"
      },
      "execution_count": null,
      "outputs": []
    },
    {
      "cell_type": "code",
      "source": [
        "def happyBirthday(person): #함수 happyBirthday를 정의\n",
        "    print(\"happy Birthday to you!\") #해당 내용을 출력하기\n",
        "    print(\"happy Birthday to you!\") #해당 내용을 출력하기\n",
        "    print(\"happy Birthday, dear \" + person) #해당 내용을 출력하기\n",
        "    print(\"happy Birthday to you!\") #해당 내용을 출력하기\n",
        "\n",
        "happyBirthday(\"홍길동\") #함수 happyBirthday 실행"
      ],
      "metadata": {
        "id": "BTry_N2cLpOY"
      },
      "execution_count": null,
      "outputs": []
    },
    {
      "cell_type": "code",
      "source": [
        "def sumProblem(x, y): #함수 sumProblem을 정의\n",
        "    sum = x + y #변수 x 와 변수 y의 합을 sum으로 지정\n",
        "    sentence = \"정수\" + str(x) + \"+\" + str(y) + \"의 합은?\" #해당 내용을 sentence로 지정\n",
        "    print(sentence) #함수 실행시 sentence 출력\n",
        "\n",
        "def main(): #함수 main을 지정\n",
        "    a = int(input(\"첫 번째 정수: \")) #int, input을 이용해 입력한 문자열을 정수로 변경하기\n",
        "    b = int(input(\"두 번째 정수: \")) #int, input을 이용해 입력한 문자열을 정수로 변경하기\n",
        "    sumProblem(a, b) #함수 sumProblem을 실행\n",
        "\n",
        "main() #함수 실행"
      ],
      "metadata": {
        "id": "J69Cz2aoMVz4"
      },
      "execution_count": null,
      "outputs": []
    },
    {
      "cell_type": "code",
      "source": [
        "PI = 3.14159265358979 #PI의 값 지정\n",
        "\n",
        "def circleArea(radius): #함수 circleArea를 정의\n",
        "    return PI*radius*radius #PI*radius*radius에서 값을 반환\n",
        "\n",
        "def circleCircumference(radius): #함수 circleCircumference를 정의\n",
        "    return 2*PI*radius #함수 2*PI*radius에서 값을 반환\n",
        "\n",
        "def main(): #함수 main을 정의\n",
        "    print('반지름이 5인 원의 면적: ', circleArea(5)) #해당 내용을 실행 및 출력\n",
        "    print('반지름이 5인 원의 둘레: ', circleCircumference(5)) #해당 내용을 실행 및 출력\n",
        "\n",
        "main() #함수 실행"
      ],
      "metadata": {
        "id": "Vck2L_E9NMQ5"
      },
      "execution_count": null,
      "outputs": []
    },
    {
      "cell_type": "code",
      "source": [
        "def add(a, b): #함수 add 정의\n",
        "    print(\"(%d + %d)\" % (a, b), end =\" \")\n",
        "    return a + b\n",
        "\n",
        "def subtract(a, b): #함수 subtract 정의\n",
        "    print(\"(%d - %d)\" % (a, b), end =\" \")\n",
        "    return a - b\n",
        "\n",
        "def multiply(a, b): #함수 multiply 정의\n",
        "    print(\"(%d * %d)\" % (a, b), end =\" \")\n",
        "    return a * b\n",
        "\n",
        "def divide(a, b): #함수 divide 정의\n",
        "    print(\"(%d / %d)\" % (a, b), end =\" \")\n",
        "    return a / b\n",
        "\n",
        "what = add(20, 10) #what을 함수 add로 지정\n",
        "#add를 subtract, multiply, divide로 변경할 시 해당 함수로 지정.\n",
        "print(\"= \", what) #해당 내용을 실행 및 출력하기"
      ],
      "metadata": {
        "id": "zzZNgYdrO0ei"
      },
      "execution_count": null,
      "outputs": []
    }
  ]
}
